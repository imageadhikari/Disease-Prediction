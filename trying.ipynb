{
 "cells": [
  {
   "cell_type": "code",
   "execution_count": 1,
   "id": "c5b81479",
   "metadata": {},
   "outputs": [],
   "source": [
    "import pandas as pd\n",
    "import numpy as np"
   ]
  },
  {
   "cell_type": "code",
   "execution_count": 2,
   "id": "f05c2e72",
   "metadata": {},
   "outputs": [],
   "source": [
    "df_sympSeverity = pd.read_csv(\"data\\processedseverity.csv\")"
   ]
  },
  {
   "cell_type": "code",
   "execution_count": 30,
   "id": "c75c4d04",
   "metadata": {},
   "outputs": [
    {
     "data": {
      "text/html": [
       "<div>\n",
       "<style scoped>\n",
       "    .dataframe tbody tr th:only-of-type {\n",
       "        vertical-align: middle;\n",
       "    }\n",
       "\n",
       "    .dataframe tbody tr th {\n",
       "        vertical-align: top;\n",
       "    }\n",
       "\n",
       "    .dataframe thead th {\n",
       "        text-align: right;\n",
       "    }\n",
       "</style>\n",
       "<table border=\"1\" class=\"dataframe\">\n",
       "  <thead>\n",
       "    <tr style=\"text-align: right;\">\n",
       "      <th></th>\n",
       "      <th>Symptom</th>\n",
       "      <th>weight</th>\n",
       "    </tr>\n",
       "  </thead>\n",
       "  <tbody>\n",
       "    <tr>\n",
       "      <th>0</th>\n",
       "      <td>itching</td>\n",
       "      <td>1</td>\n",
       "    </tr>\n",
       "    <tr>\n",
       "      <th>1</th>\n",
       "      <td>skin rash</td>\n",
       "      <td>3</td>\n",
       "    </tr>\n",
       "    <tr>\n",
       "      <th>2</th>\n",
       "      <td>nodal skin eruptions</td>\n",
       "      <td>4</td>\n",
       "    </tr>\n",
       "    <tr>\n",
       "      <th>3</th>\n",
       "      <td>continuous sneezing</td>\n",
       "      <td>4</td>\n",
       "    </tr>\n",
       "    <tr>\n",
       "      <th>4</th>\n",
       "      <td>shivering</td>\n",
       "      <td>5</td>\n",
       "    </tr>\n",
       "    <tr>\n",
       "      <th>5</th>\n",
       "      <td>chills</td>\n",
       "      <td>3</td>\n",
       "    </tr>\n",
       "    <tr>\n",
       "      <th>6</th>\n",
       "      <td>joint pain</td>\n",
       "      <td>3</td>\n",
       "    </tr>\n",
       "    <tr>\n",
       "      <th>7</th>\n",
       "      <td>stomach pain</td>\n",
       "      <td>5</td>\n",
       "    </tr>\n",
       "    <tr>\n",
       "      <th>8</th>\n",
       "      <td>acidity</td>\n",
       "      <td>3</td>\n",
       "    </tr>\n",
       "    <tr>\n",
       "      <th>9</th>\n",
       "      <td>ulcers on tongue</td>\n",
       "      <td>4</td>\n",
       "    </tr>\n",
       "    <tr>\n",
       "      <th>10</th>\n",
       "      <td>muscle wasting</td>\n",
       "      <td>3</td>\n",
       "    </tr>\n",
       "    <tr>\n",
       "      <th>11</th>\n",
       "      <td>vomiting</td>\n",
       "      <td>5</td>\n",
       "    </tr>\n",
       "    <tr>\n",
       "      <th>12</th>\n",
       "      <td>burning micturition</td>\n",
       "      <td>6</td>\n",
       "    </tr>\n",
       "    <tr>\n",
       "      <th>13</th>\n",
       "      <td>spotting urination</td>\n",
       "      <td>6</td>\n",
       "    </tr>\n",
       "    <tr>\n",
       "      <th>14</th>\n",
       "      <td>fatigue</td>\n",
       "      <td>4</td>\n",
       "    </tr>\n",
       "    <tr>\n",
       "      <th>15</th>\n",
       "      <td>weight gain</td>\n",
       "      <td>3</td>\n",
       "    </tr>\n",
       "    <tr>\n",
       "      <th>16</th>\n",
       "      <td>anxiety</td>\n",
       "      <td>4</td>\n",
       "    </tr>\n",
       "    <tr>\n",
       "      <th>17</th>\n",
       "      <td>cold hands and feets</td>\n",
       "      <td>5</td>\n",
       "    </tr>\n",
       "    <tr>\n",
       "      <th>18</th>\n",
       "      <td>mood swings</td>\n",
       "      <td>3</td>\n",
       "    </tr>\n",
       "    <tr>\n",
       "      <th>19</th>\n",
       "      <td>weight loss</td>\n",
       "      <td>3</td>\n",
       "    </tr>\n",
       "  </tbody>\n",
       "</table>\n",
       "</div>"
      ],
      "text/plain": [
       "                 Symptom  weight\n",
       "0                itching       1\n",
       "1              skin rash       3\n",
       "2   nodal skin eruptions       4\n",
       "3    continuous sneezing       4\n",
       "4              shivering       5\n",
       "5                 chills       3\n",
       "6             joint pain       3\n",
       "7           stomach pain       5\n",
       "8                acidity       3\n",
       "9       ulcers on tongue       4\n",
       "10        muscle wasting       3\n",
       "11              vomiting       5\n",
       "12   burning micturition       6\n",
       "13    spotting urination       6\n",
       "14               fatigue       4\n",
       "15           weight gain       3\n",
       "16               anxiety       4\n",
       "17  cold hands and feets       5\n",
       "18           mood swings       3\n",
       "19           weight loss       3"
      ]
     },
     "execution_count": 30,
     "metadata": {},
     "output_type": "execute_result"
    }
   ],
   "source": [
    "df_sympSeverity.head(20)"
   ]
  },
  {
   "cell_type": "code",
   "execution_count": 4,
   "id": "3797682a",
   "metadata": {},
   "outputs": [],
   "source": [
    "df_sympSeverity = df_sympSeverity.drop(117)"
   ]
  },
  {
   "cell_type": "code",
   "execution_count": 5,
   "id": "7c2134c5",
   "metadata": {},
   "outputs": [
    {
     "data": {
      "text/plain": [
       "(131, 2)"
      ]
     },
     "execution_count": 5,
     "metadata": {},
     "output_type": "execute_result"
    }
   ],
   "source": [
    "df_sympSeverity.shape"
   ]
  },
  {
   "cell_type": "code",
   "execution_count": 6,
   "id": "25fedeb5",
   "metadata": {},
   "outputs": [
    {
     "data": {
      "text/plain": [
       "Symptom    131\n",
       "weight       7\n",
       "dtype: int64"
      ]
     },
     "execution_count": 6,
     "metadata": {},
     "output_type": "execute_result"
    }
   ],
   "source": [
    "df_sympSeverity.nunique()"
   ]
  },
  {
   "cell_type": "code",
   "execution_count": 7,
   "id": "f7fe8f8d",
   "metadata": {},
   "outputs": [
    {
     "data": {
      "text/plain": [
       "'shivering'"
      ]
     },
     "execution_count": 7,
     "metadata": {},
     "output_type": "execute_result"
    }
   ],
   "source": [
    "df_sympSeverity['Symptom'][4]"
   ]
  },
  {
   "cell_type": "code",
   "execution_count": 31,
   "id": "5c461c50",
   "metadata": {},
   "outputs": [],
   "source": [
    "w = 'mood swings'"
   ]
  },
  {
   "cell_type": "code",
   "execution_count": 32,
   "id": "f6db4a46",
   "metadata": {},
   "outputs": [],
   "source": [
    "def give_weight(w):\n",
    "    for i in range(df_sympSeverity.shape[0]):\n",
    "        try:\n",
    "            if df_sympSeverity['Symptom'][i]==w:\n",
    "                return df_sympSeverity['weight'][i]\n",
    "        except:\n",
    "            return 0"
   ]
  },
  {
   "cell_type": "code",
   "execution_count": 33,
   "id": "3641f55e",
   "metadata": {},
   "outputs": [
    {
     "data": {
      "text/plain": [
       "3"
      ]
     },
     "execution_count": 33,
     "metadata": {},
     "output_type": "execute_result"
    }
   ],
   "source": [
    "give_weight(w)"
   ]
  },
  {
   "cell_type": "code",
   "execution_count": 34,
   "id": "65d8c761",
   "metadata": {},
   "outputs": [],
   "source": [
    "inp_arr = np.zeros(17)"
   ]
  },
  {
   "cell_type": "code",
   "execution_count": 35,
   "id": "d322696c",
   "metadata": {},
   "outputs": [],
   "source": [
    "inp_arr[0] = give_weight('itching')\n",
    "inp_arr[1] = give_weight('lethargy')\n",
    "inp_arr[2] = give_weight('nodal skin eruptions')\n",
    "inp_arr[3] = give_weight('skin rash')"
   ]
  },
  {
   "cell_type": "code",
   "execution_count": 36,
   "id": "a578811d",
   "metadata": {},
   "outputs": [
    {
     "data": {
      "text/plain": [
       "array([1., 2., 4., 3., 0., 0., 0., 0., 0., 0., 0., 0., 0., 0., 0., 0., 0.])"
      ]
     },
     "execution_count": 36,
     "metadata": {},
     "output_type": "execute_result"
    }
   ],
   "source": [
    "inp_arr"
   ]
  },
  {
   "cell_type": "code",
   "execution_count": null,
   "id": "a59a81ee",
   "metadata": {},
   "outputs": [],
   "source": []
  }
 ],
 "metadata": {
  "kernelspec": {
   "display_name": "Python 3 (ipykernel)",
   "language": "python",
   "name": "python3"
  },
  "language_info": {
   "codemirror_mode": {
    "name": "ipython",
    "version": 3
   },
   "file_extension": ".py",
   "mimetype": "text/x-python",
   "name": "python",
   "nbconvert_exporter": "python",
   "pygments_lexer": "ipython3",
   "version": "3.9.12"
  }
 },
 "nbformat": 4,
 "nbformat_minor": 5
}
