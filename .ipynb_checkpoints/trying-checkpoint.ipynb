{
 "cells": [
  {
   "cell_type": "code",
   "execution_count": 1,
   "id": "c5b81479",
   "metadata": {},
   "outputs": [],
   "source": [
    "import pandas as pd\n",
    "import numpy as np"
   ]
  },
  {
   "cell_type": "code",
   "execution_count": 2,
   "id": "f05c2e72",
   "metadata": {},
   "outputs": [],
   "source": [
    "df = pd.read_csv(\"data/dataset.csv\")\n",
    "df_sympDescription = pd.read_csv(\"data/symptom_Description.csv\")\n",
    "df_sympSeverity = pd.read_csv(\"data/Symptom-severity.csv\")\n",
    "df_sympPrecaution = pd.read_csv(\"data/symptom_precaution.csv\")"
   ]
  },
  {
   "cell_type": "code",
   "execution_count": 3,
   "id": "c75c4d04",
   "metadata": {},
   "outputs": [
    {
     "data": {
      "text/html": [
       "<div>\n",
       "<style scoped>\n",
       "    .dataframe tbody tr th:only-of-type {\n",
       "        vertical-align: middle;\n",
       "    }\n",
       "\n",
       "    .dataframe tbody tr th {\n",
       "        vertical-align: top;\n",
       "    }\n",
       "\n",
       "    .dataframe thead th {\n",
       "        text-align: right;\n",
       "    }\n",
       "</style>\n",
       "<table border=\"1\" class=\"dataframe\">\n",
       "  <thead>\n",
       "    <tr style=\"text-align: right;\">\n",
       "      <th></th>\n",
       "      <th>Symptom</th>\n",
       "      <th>weight</th>\n",
       "    </tr>\n",
       "  </thead>\n",
       "  <tbody>\n",
       "    <tr>\n",
       "      <th>0</th>\n",
       "      <td>itching</td>\n",
       "      <td>1</td>\n",
       "    </tr>\n",
       "    <tr>\n",
       "      <th>1</th>\n",
       "      <td>skin_rash</td>\n",
       "      <td>3</td>\n",
       "    </tr>\n",
       "    <tr>\n",
       "      <th>2</th>\n",
       "      <td>nodal_skin_eruptions</td>\n",
       "      <td>4</td>\n",
       "    </tr>\n",
       "    <tr>\n",
       "      <th>3</th>\n",
       "      <td>continuous_sneezing</td>\n",
       "      <td>4</td>\n",
       "    </tr>\n",
       "    <tr>\n",
       "      <th>4</th>\n",
       "      <td>shivering</td>\n",
       "      <td>5</td>\n",
       "    </tr>\n",
       "  </tbody>\n",
       "</table>\n",
       "</div>"
      ],
      "text/plain": [
       "                Symptom  weight\n",
       "0               itching       1\n",
       "1             skin_rash       3\n",
       "2  nodal_skin_eruptions       4\n",
       "3   continuous_sneezing       4\n",
       "4             shivering       5"
      ]
     },
     "execution_count": 3,
     "metadata": {},
     "output_type": "execute_result"
    }
   ],
   "source": [
    "df_sympSeverity.head()"
   ]
  },
  {
   "cell_type": "code",
   "execution_count": 4,
   "id": "3797682a",
   "metadata": {},
   "outputs": [],
   "source": [
    "df_sympSeverity = df_sympSeverity.drop(117)"
   ]
  },
  {
   "cell_type": "code",
   "execution_count": 5,
   "id": "7c2134c5",
   "metadata": {},
   "outputs": [
    {
     "data": {
      "text/plain": [
       "(132, 2)"
      ]
     },
     "execution_count": 5,
     "metadata": {},
     "output_type": "execute_result"
    }
   ],
   "source": [
    "df_sympSeverity.shape"
   ]
  },
  {
   "cell_type": "code",
   "execution_count": 6,
   "id": "25fedeb5",
   "metadata": {},
   "outputs": [
    {
     "data": {
      "text/plain": [
       "Symptom    132\n",
       "weight       7\n",
       "dtype: int64"
      ]
     },
     "execution_count": 6,
     "metadata": {},
     "output_type": "execute_result"
    }
   ],
   "source": [
    "df_sympSeverity.nunique()"
   ]
  },
  {
   "cell_type": "code",
   "execution_count": 7,
   "id": "f7fe8f8d",
   "metadata": {},
   "outputs": [
    {
     "data": {
      "text/plain": [
       "'shivering'"
      ]
     },
     "execution_count": 7,
     "metadata": {},
     "output_type": "execute_result"
    }
   ],
   "source": [
    "df_sympSeverity['Symptom'][4]"
   ]
  },
  {
   "cell_type": "code",
   "execution_count": 8,
   "id": "5c461c50",
   "metadata": {},
   "outputs": [],
   "source": [
    "w = 'shivering'"
   ]
  },
  {
   "cell_type": "code",
   "execution_count": 9,
   "id": "f6db4a46",
   "metadata": {},
   "outputs": [],
   "source": [
    "def give_weight(w):\n",
    "    for i in range(df_sympSeverity.shape[0]):\n",
    "        if df_sympSeverity['Symptom'][i]==w:\n",
    "            return df_sympSeverity['weight'][i]\n",
    "#         else:\n",
    "#             return 0\n",
    "    "
   ]
  },
  {
   "cell_type": "code",
   "execution_count": 10,
   "id": "3641f55e",
   "metadata": {},
   "outputs": [
    {
     "data": {
      "text/plain": [
       "0"
      ]
     },
     "execution_count": 10,
     "metadata": {},
     "output_type": "execute_result"
    }
   ],
   "source": [
    "give_weight(w)"
   ]
  },
  {
   "cell_type": "code",
   "execution_count": null,
   "id": "65d8c761",
   "metadata": {},
   "outputs": [],
   "source": []
  }
 ],
 "metadata": {
  "kernelspec": {
   "display_name": "Python 3 (ipykernel)",
   "language": "python",
   "name": "python3"
  },
  "language_info": {
   "codemirror_mode": {
    "name": "ipython",
    "version": 3
   },
   "file_extension": ".py",
   "mimetype": "text/x-python",
   "name": "python",
   "nbconvert_exporter": "python",
   "pygments_lexer": "ipython3",
   "version": "3.9.12"
  }
 },
 "nbformat": 4,
 "nbformat_minor": 5
}
